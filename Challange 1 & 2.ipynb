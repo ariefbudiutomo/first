{
 "cells": [
  {
   "cell_type": "code",
   "execution_count": 1,
   "metadata": {},
   "outputs": [],
   "source": [
    "import warnings; warnings.simplefilter('ignore')\n",
    "import scipy, itertools, pandas as pd, matplotlib.pyplot as plt, seaborn as sns, numpy as np\n",
    "from scipy import stats\n",
    "from sklearn.preprocessing import StandardScaler, MinMaxScaler\n",
    "\n",
    "plt.style.use('bmh'); sns.set()"
   ]
  },
  {
   "cell_type": "code",
   "execution_count": 2,
   "metadata": {},
   "outputs": [
    {
     "data": {
      "text/html": [
       "<div>\n",
       "<style scoped>\n",
       "    .dataframe tbody tr th:only-of-type {\n",
       "        vertical-align: middle;\n",
       "    }\n",
       "\n",
       "    .dataframe tbody tr th {\n",
       "        vertical-align: top;\n",
       "    }\n",
       "\n",
       "    .dataframe thead th {\n",
       "        text-align: right;\n",
       "    }\n",
       "</style>\n",
       "<table border=\"1\" class=\"dataframe\">\n",
       "  <thead>\n",
       "    <tr style=\"text-align: right;\">\n",
       "      <th></th>\n",
       "      <th>jenis</th>\n",
       "      <th>Kedalaman</th>\n",
       "      <th>Panjang</th>\n",
       "      <th>Berat</th>\n",
       "      <th>Tinggi</th>\n",
       "      <th>Lebar</th>\n",
       "    </tr>\n",
       "  </thead>\n",
       "  <tbody>\n",
       "    <tr>\n",
       "      <th>0</th>\n",
       "      <td>E_ongus</td>\n",
       "      <td>5.0</td>\n",
       "      <td>22.7</td>\n",
       "      <td>150.0</td>\n",
       "      <td>8.6</td>\n",
       "      <td>2.8</td>\n",
       "    </tr>\n",
       "    <tr>\n",
       "      <th>1</th>\n",
       "      <td>E_ongus</td>\n",
       "      <td>5.0</td>\n",
       "      <td>24.7</td>\n",
       "      <td>170.0</td>\n",
       "      <td>9.8</td>\n",
       "      <td>3.2</td>\n",
       "    </tr>\n",
       "    <tr>\n",
       "      <th>2</th>\n",
       "      <td>E_ongus</td>\n",
       "      <td>7.0</td>\n",
       "      <td>22.5</td>\n",
       "      <td>148.0</td>\n",
       "      <td>8.4</td>\n",
       "      <td>2.8</td>\n",
       "    </tr>\n",
       "    <tr>\n",
       "      <th>3</th>\n",
       "      <td>E_ongus</td>\n",
       "      <td>5.0</td>\n",
       "      <td>22.6</td>\n",
       "      <td>151.0</td>\n",
       "      <td>8.5</td>\n",
       "      <td>2.8</td>\n",
       "    </tr>\n",
       "    <tr>\n",
       "      <th>4</th>\n",
       "      <td>E_ongus</td>\n",
       "      <td>8.0</td>\n",
       "      <td>23.5</td>\n",
       "      <td>163.0</td>\n",
       "      <td>9.0</td>\n",
       "      <td>2.8</td>\n",
       "    </tr>\n",
       "  </tbody>\n",
       "</table>\n",
       "</div>"
      ],
      "text/plain": [
       "     jenis  Kedalaman  Panjang  Berat  Tinggi  Lebar\n",
       "0  E_ongus        5.0     22.7  150.0     8.6    2.8\n",
       "1  E_ongus        5.0     24.7  170.0     9.8    3.2\n",
       "2  E_ongus        7.0     22.5  148.0     8.4    2.8\n",
       "3  E_ongus        5.0     22.6  151.0     8.5    2.8\n",
       "4  E_ongus        8.0     23.5  163.0     9.0    2.8"
      ]
     },
     "execution_count": 2,
     "metadata": {},
     "output_type": "execute_result"
    }
   ],
   "source": [
    "kerapu = pd.read_csv(\"kerapu.csv\", sep = ';')\n",
    "kerapu.head()"
   ]
  },
  {
   "cell_type": "code",
   "execution_count": 3,
   "metadata": {},
   "outputs": [
    {
     "data": {
      "text/html": [
       "<div>\n",
       "<style scoped>\n",
       "    .dataframe tbody tr th:only-of-type {\n",
       "        vertical-align: middle;\n",
       "    }\n",
       "\n",
       "    .dataframe tbody tr th {\n",
       "        vertical-align: top;\n",
       "    }\n",
       "\n",
       "    .dataframe thead th {\n",
       "        text-align: right;\n",
       "    }\n",
       "</style>\n",
       "<table border=\"1\" class=\"dataframe\">\n",
       "  <thead>\n",
       "    <tr style=\"text-align: right;\">\n",
       "      <th></th>\n",
       "      <th>jenis</th>\n",
       "      <th>Kedalaman</th>\n",
       "      <th>Panjang</th>\n",
       "      <th>Berat</th>\n",
       "      <th>Tinggi</th>\n",
       "      <th>Lebar</th>\n",
       "    </tr>\n",
       "  </thead>\n",
       "  <tbody>\n",
       "    <tr>\n",
       "      <th>46</th>\n",
       "      <td>E_areolatus</td>\n",
       "      <td>25.0</td>\n",
       "      <td>26.8</td>\n",
       "      <td>231.0</td>\n",
       "      <td>8.5</td>\n",
       "      <td>3.5</td>\n",
       "    </tr>\n",
       "    <tr>\n",
       "      <th>47</th>\n",
       "      <td>E_areolatus</td>\n",
       "      <td>25.0</td>\n",
       "      <td>29.8</td>\n",
       "      <td>251.0</td>\n",
       "      <td>10.4</td>\n",
       "      <td>3.8</td>\n",
       "    </tr>\n",
       "    <tr>\n",
       "      <th>48</th>\n",
       "      <td>E_areolatus</td>\n",
       "      <td>20.0</td>\n",
       "      <td>29.6</td>\n",
       "      <td>257.0</td>\n",
       "      <td>10.2</td>\n",
       "      <td>3.8</td>\n",
       "    </tr>\n",
       "    <tr>\n",
       "      <th>49</th>\n",
       "      <td>E_areolatus</td>\n",
       "      <td>20.0</td>\n",
       "      <td>28.4</td>\n",
       "      <td>247.0</td>\n",
       "      <td>9.5</td>\n",
       "      <td>3.8</td>\n",
       "    </tr>\n",
       "    <tr>\n",
       "      <th>50</th>\n",
       "      <td>NaN</td>\n",
       "      <td>NaN</td>\n",
       "      <td>NaN</td>\n",
       "      <td>NaN</td>\n",
       "      <td>NaN</td>\n",
       "      <td>NaN</td>\n",
       "    </tr>\n",
       "  </tbody>\n",
       "</table>\n",
       "</div>"
      ],
      "text/plain": [
       "          jenis  Kedalaman  Panjang  Berat  Tinggi  Lebar\n",
       "46  E_areolatus       25.0     26.8  231.0     8.5    3.5\n",
       "47  E_areolatus       25.0     29.8  251.0    10.4    3.8\n",
       "48  E_areolatus       20.0     29.6  257.0    10.2    3.8\n",
       "49  E_areolatus       20.0     28.4  247.0     9.5    3.8\n",
       "50          NaN        NaN      NaN    NaN     NaN    NaN"
      ]
     },
     "execution_count": 3,
     "metadata": {},
     "output_type": "execute_result"
    }
   ],
   "source": [
    "kerapu.tail()"
   ]
  },
  {
   "cell_type": "code",
   "execution_count": 4,
   "metadata": {},
   "outputs": [
    {
     "name": "stdout",
     "output_type": "stream",
     "text": [
      "<class 'pandas.core.frame.DataFrame'>\n",
      "RangeIndex: 51 entries, 0 to 50\n",
      "Data columns (total 6 columns):\n",
      "jenis        50 non-null object\n",
      "Kedalaman    50 non-null float64\n",
      "Panjang      50 non-null float64\n",
      "Berat        50 non-null float64\n",
      "Tinggi       50 non-null float64\n",
      "Lebar        50 non-null float64\n",
      "dtypes: float64(5), object(1)\n",
      "memory usage: 2.5+ KB\n"
     ]
    }
   ],
   "source": [
    "kerapu.info()"
   ]
  },
  {
   "cell_type": "code",
   "execution_count": 5,
   "metadata": {},
   "outputs": [
    {
     "name": "stdout",
     "output_type": "stream",
     "text": [
      "jenis        1\n",
      "Kedalaman    1\n",
      "Panjang      1\n",
      "Berat        1\n",
      "Tinggi       1\n",
      "Lebar        1\n",
      "dtype: int64\n"
     ]
    }
   ],
   "source": [
    "print(kerapu.isnull().sum())"
   ]
  },
  {
   "cell_type": "code",
   "execution_count": 6,
   "metadata": {},
   "outputs": [],
   "source": [
    "X = kerapu.dropna()\n",
    "kerapu.dropna(inplace=True)"
   ]
  },
  {
   "cell_type": "code",
   "execution_count": 7,
   "metadata": {},
   "outputs": [
    {
     "data": {
      "text/html": [
       "<div>\n",
       "<style scoped>\n",
       "    .dataframe tbody tr th:only-of-type {\n",
       "        vertical-align: middle;\n",
       "    }\n",
       "\n",
       "    .dataframe tbody tr th {\n",
       "        vertical-align: top;\n",
       "    }\n",
       "\n",
       "    .dataframe thead th {\n",
       "        text-align: right;\n",
       "    }\n",
       "</style>\n",
       "<table border=\"1\" class=\"dataframe\">\n",
       "  <thead>\n",
       "    <tr style=\"text-align: right;\">\n",
       "      <th></th>\n",
       "      <th>jenis</th>\n",
       "      <th>Kedalaman</th>\n",
       "      <th>Panjang</th>\n",
       "      <th>Berat</th>\n",
       "      <th>Tinggi</th>\n",
       "      <th>Lebar</th>\n",
       "    </tr>\n",
       "  </thead>\n",
       "  <tbody>\n",
       "    <tr>\n",
       "      <th>45</th>\n",
       "      <td>E_areolatus</td>\n",
       "      <td>25.0</td>\n",
       "      <td>27.9</td>\n",
       "      <td>239.0</td>\n",
       "      <td>9.0</td>\n",
       "      <td>3.6</td>\n",
       "    </tr>\n",
       "    <tr>\n",
       "      <th>46</th>\n",
       "      <td>E_areolatus</td>\n",
       "      <td>25.0</td>\n",
       "      <td>26.8</td>\n",
       "      <td>231.0</td>\n",
       "      <td>8.5</td>\n",
       "      <td>3.5</td>\n",
       "    </tr>\n",
       "    <tr>\n",
       "      <th>47</th>\n",
       "      <td>E_areolatus</td>\n",
       "      <td>25.0</td>\n",
       "      <td>29.8</td>\n",
       "      <td>251.0</td>\n",
       "      <td>10.4</td>\n",
       "      <td>3.8</td>\n",
       "    </tr>\n",
       "    <tr>\n",
       "      <th>48</th>\n",
       "      <td>E_areolatus</td>\n",
       "      <td>20.0</td>\n",
       "      <td>29.6</td>\n",
       "      <td>257.0</td>\n",
       "      <td>10.2</td>\n",
       "      <td>3.8</td>\n",
       "    </tr>\n",
       "    <tr>\n",
       "      <th>49</th>\n",
       "      <td>E_areolatus</td>\n",
       "      <td>20.0</td>\n",
       "      <td>28.4</td>\n",
       "      <td>247.0</td>\n",
       "      <td>9.5</td>\n",
       "      <td>3.8</td>\n",
       "    </tr>\n",
       "  </tbody>\n",
       "</table>\n",
       "</div>"
      ],
      "text/plain": [
       "          jenis  Kedalaman  Panjang  Berat  Tinggi  Lebar\n",
       "45  E_areolatus       25.0     27.9  239.0     9.0    3.6\n",
       "46  E_areolatus       25.0     26.8  231.0     8.5    3.5\n",
       "47  E_areolatus       25.0     29.8  251.0    10.4    3.8\n",
       "48  E_areolatus       20.0     29.6  257.0    10.2    3.8\n",
       "49  E_areolatus       20.0     28.4  247.0     9.5    3.8"
      ]
     },
     "execution_count": 7,
     "metadata": {},
     "output_type": "execute_result"
    }
   ],
   "source": [
    "kerapu.tail()"
   ]
  },
  {
   "cell_type": "code",
   "execution_count": 8,
   "metadata": {},
   "outputs": [
    {
     "data": {
      "text/html": [
       "<div>\n",
       "<style scoped>\n",
       "    .dataframe tbody tr th:only-of-type {\n",
       "        vertical-align: middle;\n",
       "    }\n",
       "\n",
       "    .dataframe tbody tr th {\n",
       "        vertical-align: top;\n",
       "    }\n",
       "\n",
       "    .dataframe thead th {\n",
       "        text-align: right;\n",
       "    }\n",
       "</style>\n",
       "<table border=\"1\" class=\"dataframe\">\n",
       "  <thead>\n",
       "    <tr style=\"text-align: right;\">\n",
       "      <th></th>\n",
       "      <th>Kedalaman</th>\n",
       "      <th>Panjang</th>\n",
       "      <th>Berat</th>\n",
       "      <th>Tinggi</th>\n",
       "      <th>Lebar</th>\n",
       "    </tr>\n",
       "  </thead>\n",
       "  <tbody>\n",
       "    <tr>\n",
       "      <th>count</th>\n",
       "      <td>50.000000</td>\n",
       "      <td>50.000000</td>\n",
       "      <td>50.000000</td>\n",
       "      <td>50.000000</td>\n",
       "      <td>50.000000</td>\n",
       "    </tr>\n",
       "    <tr>\n",
       "      <th>mean</th>\n",
       "      <td>15.960000</td>\n",
       "      <td>28.670000</td>\n",
       "      <td>278.400000</td>\n",
       "      <td>10.330000</td>\n",
       "      <td>3.752000</td>\n",
       "    </tr>\n",
       "    <tr>\n",
       "      <th>std</th>\n",
       "      <td>7.359459</td>\n",
       "      <td>4.899323</td>\n",
       "      <td>129.063503</td>\n",
       "      <td>2.476028</td>\n",
       "      <td>0.805147</td>\n",
       "    </tr>\n",
       "    <tr>\n",
       "      <th>min</th>\n",
       "      <td>3.000000</td>\n",
       "      <td>20.800000</td>\n",
       "      <td>130.000000</td>\n",
       "      <td>7.500000</td>\n",
       "      <td>2.300000</td>\n",
       "    </tr>\n",
       "    <tr>\n",
       "      <th>25%</th>\n",
       "      <td>10.000000</td>\n",
       "      <td>25.975000</td>\n",
       "      <td>221.500000</td>\n",
       "      <td>8.600000</td>\n",
       "      <td>3.225000</td>\n",
       "    </tr>\n",
       "    <tr>\n",
       "      <th>50%</th>\n",
       "      <td>15.500000</td>\n",
       "      <td>28.100000</td>\n",
       "      <td>241.000000</td>\n",
       "      <td>9.350000</td>\n",
       "      <td>3.750000</td>\n",
       "    </tr>\n",
       "    <tr>\n",
       "      <th>75%</th>\n",
       "      <td>20.000000</td>\n",
       "      <td>29.875000</td>\n",
       "      <td>258.000000</td>\n",
       "      <td>10.575000</td>\n",
       "      <td>4.000000</td>\n",
       "    </tr>\n",
       "    <tr>\n",
       "      <th>max</th>\n",
       "      <td>30.000000</td>\n",
       "      <td>40.200000</td>\n",
       "      <td>560.000000</td>\n",
       "      <td>16.100000</td>\n",
       "      <td>5.800000</td>\n",
       "    </tr>\n",
       "  </tbody>\n",
       "</table>\n",
       "</div>"
      ],
      "text/plain": [
       "       Kedalaman    Panjang       Berat     Tinggi      Lebar\n",
       "count  50.000000  50.000000   50.000000  50.000000  50.000000\n",
       "mean   15.960000  28.670000  278.400000  10.330000   3.752000\n",
       "std     7.359459   4.899323  129.063503   2.476028   0.805147\n",
       "min     3.000000  20.800000  130.000000   7.500000   2.300000\n",
       "25%    10.000000  25.975000  221.500000   8.600000   3.225000\n",
       "50%    15.500000  28.100000  241.000000   9.350000   3.750000\n",
       "75%    20.000000  29.875000  258.000000  10.575000   4.000000\n",
       "max    30.000000  40.200000  560.000000  16.100000   5.800000"
      ]
     },
     "execution_count": 8,
     "metadata": {},
     "output_type": "execute_result"
    }
   ],
   "source": [
    "kerapu.describe()"
   ]
  },
  {
   "cell_type": "code",
   "execution_count": 9,
   "metadata": {},
   "outputs": [
    {
     "data": {
      "image/png": "[encoded data removed]",
      "text/plain": [
       "<Figure size 576x432 with 1 Axes>"
      ]
     },
     "metadata": {
      "needs_background": "light"
     },
     "output_type": "display_data"
    }
   ],
   "source": [
    "plt.figure(figsize=(8,6)) \n",
    "p = sns.countplot(x=\"jenis\", data=kerapu)"
   ]
  },
  {
   "cell_type": "code",
   "execution_count": 10,
   "metadata": {},
   "outputs": [
    {
     "data": {
      "image/png": "[encoded data removed]",
      "text/plain": [
       "<Figure size 1018.48x900 with 30 Axes>"
      ]
     },
     "metadata": {
      "needs_background": "light"
     },
     "output_type": "display_data"
    }
   ],
   "source": [
    "p = sns.pairplot(kerapu, kind='scatter', hue=\"jenis\")\n",
    "plt.savefig('pairplot kerapu.png')"
   ]
  },
  {
   "cell_type": "code",
   "execution_count": 11,
   "metadata": {},
   "outputs": [
    {
     "data": {
      "image/png": "[encoded data removed]",
      "text/plain": [
       "<Figure size 1080x540 with 4 Axes>"
      ]
     },
     "metadata": {
      "needs_background": "light"
     },
     "output_type": "display_data"
    }
   ],
   "source": [
    "fig, axs = plt.subplots(2,2, figsize = (15,7.5))\n",
    "plt1 = sns.boxplot(kerapu['Panjang'], ax = axs[0,0])\n",
    "plt2 = sns.boxplot(kerapu['Berat'], ax = axs[0,1])\n",
    "plt3 = sns.boxplot(kerapu['Tinggi'], ax = axs[1,0])\n",
    "plt4 = sns.boxplot(kerapu['Lebar'], ax = axs[1,1])\n",
    "\n",
    "\n",
    "plt.tight_layout()"
   ]
  },
  {
   "cell_type": "code",
   "execution_count": 12,
   "metadata": {},
   "outputs": [
    {
     "data": {
      "image/png": "[encoded data removed]",
      "text/plain": [
       "<Figure size 720x720 with 2 Axes>"
      ]
     },
     "metadata": {
      "needs_background": "light"
     },
     "output_type": "display_data"
    }
   ],
   "source": [
    "plt.figure(figsize = (10, 10))\n",
    "sns.heatmap(kerapu.corr(), annot = True, cmap=\"rainbow\")\n",
    "plt.savefig('Correlation')\n",
    "plt.show()"
   ]
  },
  {
   "cell_type": "code",
   "execution_count": 13,
   "metadata": {},
   "outputs": [
    {
     "data": {
      "text/html": [
       "<div>\n",
       "<style scoped>\n",
       "    .dataframe tbody tr th:only-of-type {\n",
       "        vertical-align: middle;\n",
       "    }\n",
       "\n",
       "    .dataframe tbody tr th {\n",
       "        vertical-align: top;\n",
       "    }\n",
       "\n",
       "    .dataframe thead th {\n",
       "        text-align: right;\n",
       "    }\n",
       "</style>\n",
       "<table border=\"1\" class=\"dataframe\">\n",
       "  <thead>\n",
       "    <tr style=\"text-align: right;\">\n",
       "      <th></th>\n",
       "      <th>jenis</th>\n",
       "      <th>Panjang</th>\n",
       "      <th>Berat</th>\n",
       "      <th>Tinggi</th>\n",
       "      <th>Lebar</th>\n",
       "    </tr>\n",
       "  </thead>\n",
       "  <tbody>\n",
       "    <tr>\n",
       "      <th>0</th>\n",
       "      <td>E_ongus</td>\n",
       "      <td>22.7</td>\n",
       "      <td>150.0</td>\n",
       "      <td>8.6</td>\n",
       "      <td>2.8</td>\n",
       "    </tr>\n",
       "    <tr>\n",
       "      <th>1</th>\n",
       "      <td>E_ongus</td>\n",
       "      <td>24.7</td>\n",
       "      <td>170.0</td>\n",
       "      <td>9.8</td>\n",
       "      <td>3.2</td>\n",
       "    </tr>\n",
       "    <tr>\n",
       "      <th>2</th>\n",
       "      <td>E_ongus</td>\n",
       "      <td>22.5</td>\n",
       "      <td>148.0</td>\n",
       "      <td>8.4</td>\n",
       "      <td>2.8</td>\n",
       "    </tr>\n",
       "    <tr>\n",
       "      <th>3</th>\n",
       "      <td>E_ongus</td>\n",
       "      <td>22.6</td>\n",
       "      <td>151.0</td>\n",
       "      <td>8.5</td>\n",
       "      <td>2.8</td>\n",
       "    </tr>\n",
       "    <tr>\n",
       "      <th>4</th>\n",
       "      <td>E_ongus</td>\n",
       "      <td>23.5</td>\n",
       "      <td>163.0</td>\n",
       "      <td>9.0</td>\n",
       "      <td>2.8</td>\n",
       "    </tr>\n",
       "  </tbody>\n",
       "</table>\n",
       "</div>"
      ],
      "text/plain": [
       "     jenis  Panjang  Berat  Tinggi  Lebar\n",
       "0  E_ongus     22.7  150.0     8.6    2.8\n",
       "1  E_ongus     24.7  170.0     9.8    3.2\n",
       "2  E_ongus     22.5  148.0     8.4    2.8\n",
       "3  E_ongus     22.6  151.0     8.5    2.8\n",
       "4  E_ongus     23.5  163.0     9.0    2.8"
      ]
     },
     "execution_count": 13,
     "metadata": {},
     "output_type": "execute_result"
    }
   ],
   "source": [
    "kerapu.drop(\"Kedalaman\", axis=1, inplace=True)\n",
    "kerapu.head()"
   ]
  },
  {
   "cell_type": "code",
   "execution_count": 14,
   "metadata": {},
   "outputs": [
    {
     "data": {
      "text/html": [
       "<div>\n",
       "<style scoped>\n",
       "    .dataframe tbody tr th:only-of-type {\n",
       "        vertical-align: middle;\n",
       "    }\n",
       "\n",
       "    .dataframe tbody tr th {\n",
       "        vertical-align: top;\n",
       "    }\n",
       "\n",
       "    .dataframe thead th {\n",
       "        text-align: right;\n",
       "    }\n",
       "</style>\n",
       "<table border=\"1\" class=\"dataframe\">\n",
       "  <thead>\n",
       "    <tr style=\"text-align: right;\">\n",
       "      <th></th>\n",
       "      <th>Panjang</th>\n",
       "      <th>Berat</th>\n",
       "      <th>Tinggi</th>\n",
       "      <th>Lebar</th>\n",
       "    </tr>\n",
       "  </thead>\n",
       "  <tbody>\n",
       "    <tr>\n",
       "      <th>0</th>\n",
       "      <td>22.7</td>\n",
       "      <td>150.0</td>\n",
       "      <td>8.6</td>\n",
       "      <td>2.8</td>\n",
       "    </tr>\n",
       "    <tr>\n",
       "      <th>1</th>\n",
       "      <td>24.7</td>\n",
       "      <td>170.0</td>\n",
       "      <td>9.8</td>\n",
       "      <td>3.2</td>\n",
       "    </tr>\n",
       "    <tr>\n",
       "      <th>2</th>\n",
       "      <td>22.5</td>\n",
       "      <td>148.0</td>\n",
       "      <td>8.4</td>\n",
       "      <td>2.8</td>\n",
       "    </tr>\n",
       "    <tr>\n",
       "      <th>3</th>\n",
       "      <td>22.6</td>\n",
       "      <td>151.0</td>\n",
       "      <td>8.5</td>\n",
       "      <td>2.8</td>\n",
       "    </tr>\n",
       "    <tr>\n",
       "      <th>4</th>\n",
       "      <td>23.5</td>\n",
       "      <td>163.0</td>\n",
       "      <td>9.0</td>\n",
       "      <td>2.8</td>\n",
       "    </tr>\n",
       "  </tbody>\n",
       "</table>\n",
       "</div>"
      ],
      "text/plain": [
       "   Panjang  Berat  Tinggi  Lebar\n",
       "0     22.7  150.0     8.6    2.8\n",
       "1     24.7  170.0     9.8    3.2\n",
       "2     22.5  148.0     8.4    2.8\n",
       "3     22.6  151.0     8.5    2.8\n",
       "4     23.5  163.0     9.0    2.8"
      ]
     },
     "execution_count": 14,
     "metadata": {},
     "output_type": "execute_result"
    }
   ],
   "source": [
    "X = kerapu[['Panjang', 'Berat', 'Tinggi', 'Lebar']]\n",
    "X.head()"
   ]
  },
  {
   "cell_type": "code",
   "execution_count": null,
   "metadata": {},
   "outputs": [],
   "source": []
  },
  {
   "cell_type": "code",
   "execution_count": 15,
   "metadata": {},
   "outputs": [
    {
     "data": {
      "text/html": [
       "<div>\n",
       "<style scoped>\n",
       "    .dataframe tbody tr th:only-of-type {\n",
       "        vertical-align: middle;\n",
       "    }\n",
       "\n",
       "    .dataframe tbody tr th {\n",
       "        vertical-align: top;\n",
       "    }\n",
       "\n",
       "    .dataframe thead th {\n",
       "        text-align: right;\n",
       "    }\n",
       "</style>\n",
       "<table border=\"1\" class=\"dataframe\">\n",
       "  <thead>\n",
       "    <tr style=\"text-align: right;\">\n",
       "      <th></th>\n",
       "      <th>Panjang</th>\n",
       "      <th>Berat</th>\n",
       "      <th>Tinggi</th>\n",
       "      <th>Lebar</th>\n",
       "    </tr>\n",
       "  </thead>\n",
       "  <tbody>\n",
       "    <tr>\n",
       "      <th>0</th>\n",
       "      <td>0.097938</td>\n",
       "      <td>0.046512</td>\n",
       "      <td>0.127907</td>\n",
       "      <td>0.142857</td>\n",
       "    </tr>\n",
       "    <tr>\n",
       "      <th>1</th>\n",
       "      <td>0.201031</td>\n",
       "      <td>0.093023</td>\n",
       "      <td>0.267442</td>\n",
       "      <td>0.257143</td>\n",
       "    </tr>\n",
       "    <tr>\n",
       "      <th>2</th>\n",
       "      <td>0.087629</td>\n",
       "      <td>0.041860</td>\n",
       "      <td>0.104651</td>\n",
       "      <td>0.142857</td>\n",
       "    </tr>\n",
       "    <tr>\n",
       "      <th>3</th>\n",
       "      <td>0.092784</td>\n",
       "      <td>0.048837</td>\n",
       "      <td>0.116279</td>\n",
       "      <td>0.142857</td>\n",
       "    </tr>\n",
       "    <tr>\n",
       "      <th>4</th>\n",
       "      <td>0.139175</td>\n",
       "      <td>0.076744</td>\n",
       "      <td>0.174419</td>\n",
       "      <td>0.142857</td>\n",
       "    </tr>\n",
       "  </tbody>\n",
       "</table>\n",
       "</div>"
      ],
      "text/plain": [
       "    Panjang     Berat    Tinggi     Lebar\n",
       "0  0.097938  0.046512  0.127907  0.142857\n",
       "1  0.201031  0.093023  0.267442  0.257143\n",
       "2  0.087629  0.041860  0.104651  0.142857\n",
       "3  0.092784  0.048837  0.116279  0.142857\n",
       "4  0.139175  0.076744  0.174419  0.142857"
      ]
     },
     "execution_count": 15,
     "metadata": {},
     "output_type": "execute_result"
    }
   ],
   "source": [
    "from sklearn import preprocessing\n",
    "\n",
    "s_scaler = preprocessing.MinMaxScaler()\n",
    "df_s = s_scaler.fit_transform(X)\n",
    "\n",
    "df = pd.DataFrame(df_s, columns= X.columns)\n",
    "df.head()"
   ]
  },
  {
   "cell_type": "code",
   "execution_count": 16,
   "metadata": {},
   "outputs": [],
   "source": [
    "from scipy.cluster.hierarchy import dendrogram, linkage"
   ]
  },
  {
   "cell_type": "code",
   "execution_count": 17,
   "metadata": {},
   "outputs": [
    {
     "data": {
      "image/png": "[encoded data removed]",
      "text/plain": [
       "<Figure size 1080x720 with 1 Axes>"
      ]
     },
     "metadata": {
      "needs_background": "light"
     },
     "output_type": "display_data"
    }
   ],
   "source": [
    "plt.figure(figsize = (15, 10))\n",
    "dendrogram(linkage(df, method=\"complete\", metric='euclidean'))\n",
    "plt.savefig('dendogram.png')\n",
    "plt.show()"
   ]
  },
  {
   "cell_type": "code",
   "execution_count": 18,
   "metadata": {},
   "outputs": [],
   "source": [
    "from sklearn.cluster import AgglomerativeClustering"
   ]
  },
  {
   "cell_type": "code",
   "execution_count": 19,
   "metadata": {},
   "outputs": [
    {
     "data": {
      "text/html": [
       "<div>\n",
       "<style scoped>\n",
       "    .dataframe tbody tr th:only-of-type {\n",
       "        vertical-align: middle;\n",
       "    }\n",
       "\n",
       "    .dataframe tbody tr th {\n",
       "        vertical-align: top;\n",
       "    }\n",
       "\n",
       "    .dataframe thead th {\n",
       "        text-align: right;\n",
       "    }\n",
       "</style>\n",
       "<table border=\"1\" class=\"dataframe\">\n",
       "  <thead>\n",
       "    <tr style=\"text-align: right;\">\n",
       "      <th></th>\n",
       "      <th>jenis</th>\n",
       "      <th>Panjang</th>\n",
       "      <th>Berat</th>\n",
       "      <th>Tinggi</th>\n",
       "      <th>Lebar</th>\n",
       "      <th>cluster</th>\n",
       "    </tr>\n",
       "  </thead>\n",
       "  <tbody>\n",
       "    <tr>\n",
       "      <th>0</th>\n",
       "      <td>E_ongus</td>\n",
       "      <td>22.7</td>\n",
       "      <td>150.0</td>\n",
       "      <td>8.6</td>\n",
       "      <td>2.8</td>\n",
       "      <td>2</td>\n",
       "    </tr>\n",
       "    <tr>\n",
       "      <th>1</th>\n",
       "      <td>E_ongus</td>\n",
       "      <td>24.7</td>\n",
       "      <td>170.0</td>\n",
       "      <td>9.8</td>\n",
       "      <td>3.2</td>\n",
       "      <td>2</td>\n",
       "    </tr>\n",
       "    <tr>\n",
       "      <th>2</th>\n",
       "      <td>E_ongus</td>\n",
       "      <td>22.5</td>\n",
       "      <td>148.0</td>\n",
       "      <td>8.4</td>\n",
       "      <td>2.8</td>\n",
       "      <td>2</td>\n",
       "    </tr>\n",
       "    <tr>\n",
       "      <th>3</th>\n",
       "      <td>E_ongus</td>\n",
       "      <td>22.6</td>\n",
       "      <td>151.0</td>\n",
       "      <td>8.5</td>\n",
       "      <td>2.8</td>\n",
       "      <td>2</td>\n",
       "    </tr>\n",
       "    <tr>\n",
       "      <th>4</th>\n",
       "      <td>E_ongus</td>\n",
       "      <td>23.5</td>\n",
       "      <td>163.0</td>\n",
       "      <td>9.0</td>\n",
       "      <td>2.8</td>\n",
       "      <td>2</td>\n",
       "    </tr>\n",
       "  </tbody>\n",
       "</table>\n",
       "</div>"
      ],
      "text/plain": [
       "     jenis  Panjang  Berat  Tinggi  Lebar  cluster\n",
       "0  E_ongus     22.7  150.0     8.6    2.8        2\n",
       "1  E_ongus     24.7  170.0     9.8    3.2        2\n",
       "2  E_ongus     22.5  148.0     8.4    2.8        2\n",
       "3  E_ongus     22.6  151.0     8.5    2.8        2\n",
       "4  E_ongus     23.5  163.0     9.0    2.8        2"
      ]
     },
     "execution_count": 19,
     "metadata": {},
     "output_type": "execute_result"
    }
   ],
   "source": [
    "agglo = AgglomerativeClustering(n_clusters = 3, affinity = 'euclidean')\n",
    "agglo.fit(df)\n",
    "\n",
    "labels = agglo.labels_\n",
    "hasil_agglo = pd.concat([kerapu, pd.DataFrame({'cluster':labels})], axis = 1)\n",
    "hasil_agglo.head()"
   ]
  },
  {
   "cell_type": "code",
   "execution_count": 20,
   "metadata": {},
   "outputs": [
    {
     "data": {
      "text/html": [
       "<div>\n",
       "<style scoped>\n",
       "    .dataframe tbody tr th:only-of-type {\n",
       "        vertical-align: middle;\n",
       "    }\n",
       "\n",
       "    .dataframe tbody tr th {\n",
       "        vertical-align: top;\n",
       "    }\n",
       "\n",
       "    .dataframe thead th {\n",
       "        text-align: right;\n",
       "    }\n",
       "</style>\n",
       "<table border=\"1\" class=\"dataframe\">\n",
       "  <thead>\n",
       "    <tr style=\"text-align: right;\">\n",
       "      <th></th>\n",
       "      <th>jenis</th>\n",
       "      <th>Panjang</th>\n",
       "      <th>Berat</th>\n",
       "      <th>Tinggi</th>\n",
       "      <th>Lebar</th>\n",
       "      <th>cluster</th>\n",
       "    </tr>\n",
       "  </thead>\n",
       "  <tbody>\n",
       "    <tr>\n",
       "      <th>33</th>\n",
       "      <td>E_sexfasciatus</td>\n",
       "      <td>27.7</td>\n",
       "      <td>236.0</td>\n",
       "      <td>8.9</td>\n",
       "      <td>3.4</td>\n",
       "      <td>1</td>\n",
       "    </tr>\n",
       "    <tr>\n",
       "      <th>4</th>\n",
       "      <td>E_ongus</td>\n",
       "      <td>23.5</td>\n",
       "      <td>163.0</td>\n",
       "      <td>9.0</td>\n",
       "      <td>2.8</td>\n",
       "      <td>2</td>\n",
       "    </tr>\n",
       "    <tr>\n",
       "      <th>16</th>\n",
       "      <td>E_fuscoguttatus</td>\n",
       "      <td>40.2</td>\n",
       "      <td>560.0</td>\n",
       "      <td>16.1</td>\n",
       "      <td>5.8</td>\n",
       "      <td>0</td>\n",
       "    </tr>\n",
       "    <tr>\n",
       "      <th>30</th>\n",
       "      <td>E_sexfasciatus</td>\n",
       "      <td>27.4</td>\n",
       "      <td>238.0</td>\n",
       "      <td>8.7</td>\n",
       "      <td>3.7</td>\n",
       "      <td>1</td>\n",
       "    </tr>\n",
       "    <tr>\n",
       "      <th>9</th>\n",
       "      <td>E_ongus</td>\n",
       "      <td>20.8</td>\n",
       "      <td>130.0</td>\n",
       "      <td>7.5</td>\n",
       "      <td>2.3</td>\n",
       "      <td>2</td>\n",
       "    </tr>\n",
       "    <tr>\n",
       "      <th>3</th>\n",
       "      <td>E_ongus</td>\n",
       "      <td>22.6</td>\n",
       "      <td>151.0</td>\n",
       "      <td>8.5</td>\n",
       "      <td>2.8</td>\n",
       "      <td>2</td>\n",
       "    </tr>\n",
       "    <tr>\n",
       "      <th>34</th>\n",
       "      <td>E_sexfasciatus</td>\n",
       "      <td>26.5</td>\n",
       "      <td>226.0</td>\n",
       "      <td>8.3</td>\n",
       "      <td>3.5</td>\n",
       "      <td>1</td>\n",
       "    </tr>\n",
       "    <tr>\n",
       "      <th>46</th>\n",
       "      <td>E_areolatus</td>\n",
       "      <td>26.8</td>\n",
       "      <td>231.0</td>\n",
       "      <td>8.5</td>\n",
       "      <td>3.5</td>\n",
       "      <td>1</td>\n",
       "    </tr>\n",
       "    <tr>\n",
       "      <th>2</th>\n",
       "      <td>E_ongus</td>\n",
       "      <td>22.5</td>\n",
       "      <td>148.0</td>\n",
       "      <td>8.4</td>\n",
       "      <td>2.8</td>\n",
       "      <td>2</td>\n",
       "    </tr>\n",
       "    <tr>\n",
       "      <th>49</th>\n",
       "      <td>E_areolatus</td>\n",
       "      <td>28.4</td>\n",
       "      <td>247.0</td>\n",
       "      <td>9.5</td>\n",
       "      <td>3.8</td>\n",
       "      <td>1</td>\n",
       "    </tr>\n",
       "  </tbody>\n",
       "</table>\n",
       "</div>"
      ],
      "text/plain": [
       "              jenis  Panjang  Berat  Tinggi  Lebar  cluster\n",
       "33   E_sexfasciatus     27.7  236.0     8.9    3.4        1\n",
       "4           E_ongus     23.5  163.0     9.0    2.8        2\n",
       "16  E_fuscoguttatus     40.2  560.0    16.1    5.8        0\n",
       "30   E_sexfasciatus     27.4  238.0     8.7    3.7        1\n",
       "9           E_ongus     20.8  130.0     7.5    2.3        2\n",
       "3           E_ongus     22.6  151.0     8.5    2.8        2\n",
       "34   E_sexfasciatus     26.5  226.0     8.3    3.5        1\n",
       "46      E_areolatus     26.8  231.0     8.5    3.5        1\n",
       "2           E_ongus     22.5  148.0     8.4    2.8        2\n",
       "49      E_areolatus     28.4  247.0     9.5    3.8        1"
      ]
     },
     "execution_count": 20,
     "metadata": {},
     "output_type": "execute_result"
    }
   ],
   "source": [
    "hasil_agglo.sample(10)"
   ]
  },
  {
   "cell_type": "code",
   "execution_count": 21,
   "metadata": {},
   "outputs": [
    {
     "data": {
      "text/html": [
       "<div>\n",
       "<style scoped>\n",
       "    .dataframe tbody tr th:only-of-type {\n",
       "        vertical-align: middle;\n",
       "    }\n",
       "\n",
       "    .dataframe tbody tr th {\n",
       "        vertical-align: top;\n",
       "    }\n",
       "\n",
       "    .dataframe thead th {\n",
       "        text-align: right;\n",
       "    }\n",
       "</style>\n",
       "<table border=\"1\" class=\"dataframe\">\n",
       "  <thead>\n",
       "    <tr style=\"text-align: right;\">\n",
       "      <th></th>\n",
       "      <th>Panjang</th>\n",
       "      <th>Berat</th>\n",
       "      <th>Tinggi</th>\n",
       "      <th>Lebar</th>\n",
       "      <th>cluster</th>\n",
       "    </tr>\n",
       "  </thead>\n",
       "  <tbody>\n",
       "    <tr>\n",
       "      <th>0</th>\n",
       "      <td>0.097938</td>\n",
       "      <td>0.046512</td>\n",
       "      <td>0.127907</td>\n",
       "      <td>0.142857</td>\n",
       "      <td>2</td>\n",
       "    </tr>\n",
       "    <tr>\n",
       "      <th>1</th>\n",
       "      <td>0.201031</td>\n",
       "      <td>0.093023</td>\n",
       "      <td>0.267442</td>\n",
       "      <td>0.257143</td>\n",
       "      <td>2</td>\n",
       "    </tr>\n",
       "    <tr>\n",
       "      <th>2</th>\n",
       "      <td>0.087629</td>\n",
       "      <td>0.041860</td>\n",
       "      <td>0.104651</td>\n",
       "      <td>0.142857</td>\n",
       "      <td>2</td>\n",
       "    </tr>\n",
       "    <tr>\n",
       "      <th>3</th>\n",
       "      <td>0.092784</td>\n",
       "      <td>0.048837</td>\n",
       "      <td>0.116279</td>\n",
       "      <td>0.142857</td>\n",
       "      <td>2</td>\n",
       "    </tr>\n",
       "    <tr>\n",
       "      <th>4</th>\n",
       "      <td>0.139175</td>\n",
       "      <td>0.076744</td>\n",
       "      <td>0.174419</td>\n",
       "      <td>0.142857</td>\n",
       "      <td>2</td>\n",
       "    </tr>\n",
       "  </tbody>\n",
       "</table>\n",
       "</div>"
      ],
      "text/plain": [
       "    Panjang     Berat    Tinggi     Lebar  cluster\n",
       "0  0.097938  0.046512  0.127907  0.142857        2\n",
       "1  0.201031  0.093023  0.267442  0.257143        2\n",
       "2  0.087629  0.041860  0.104651  0.142857        2\n",
       "3  0.092784  0.048837  0.116279  0.142857        2\n",
       "4  0.139175  0.076744  0.174419  0.142857        2"
      ]
     },
     "execution_count": 21,
     "metadata": {},
     "output_type": "execute_result"
    }
   ],
   "source": [
    "agglo = AgglomerativeClustering(n_clusters = 3)\n",
    "agglo.fit(df)\n",
    "\n",
    "labels = agglo.labels_\n",
    "hasil_agglo = pd.concat([df, pd.DataFrame({'cluster':labels})], axis = 1)\n",
    "hasil_agglo.head()"
   ]
  },
  {
   "cell_type": "code",
   "execution_count": 22,
   "metadata": {},
   "outputs": [
    {
     "data": {
      "image/png": "[encoded data removed]",
      "text/plain": [
       "<Figure size 648x216 with 3 Axes>"
      ]
     },
     "metadata": {
      "needs_background": "light"
     },
     "output_type": "display_data"
    },
    {
     "data": {
      "image/png": "[encoded data removed]",
      "text/plain": [
       "<Figure size 648x216 with 3 Axes>"
      ]
     },
     "metadata": {
      "needs_background": "light"
     },
     "output_type": "display_data"
    },
    {
     "data": {
      "image/png": "[encoded data removed]",
      "text/plain": [
       "<Figure size 648x216 with 3 Axes>"
      ]
     },
     "metadata": {
      "needs_background": "light"
     },
     "output_type": "display_data"
    },
    {
     "data": {
      "image/png": "[encoded data removed]",
      "text/plain": [
       "<Figure size 648x216 with 3 Axes>"
      ]
     },
     "metadata": {
      "needs_background": "light"
     },
     "output_type": "display_data"
    },
    {
     "data": {
      "image/png": "[encoded data removed]",
      "text/plain": [
       "<Figure size 648x216 with 3 Axes>"
      ]
     },
     "metadata": {
      "needs_background": "light"
     },
     "output_type": "display_data"
    }
   ],
   "source": [
    "for i in hasil_agglo:\n",
    "    grid = sns.FacetGrid(hasil_agglo, col = 'cluster')\n",
    "    grid.map(plt.hist, i)"
   ]
  },
  {
   "cell_type": "code",
   "execution_count": 23,
   "metadata": {},
   "outputs": [],
   "source": [
    "from sklearn.decomposition import PCA\n",
    "pca = PCA(n_components=2)\n",
    "pca1 = pca.fit_transform(df)"
   ]
  },
  {
   "cell_type": "code",
   "execution_count": 24,
   "metadata": {},
   "outputs": [
    {
     "data": {
      "text/plain": [
       "array([[-5.34826838e-01,  1.04679684e-01],\n",
       "       [-3.37593889e-01,  8.66516370e-02],\n",
       "       [-5.54688476e-01,  9.37830569e-02],\n",
       "       [-5.42140355e-01,  1.00362872e-01],\n",
       "       [-4.73606689e-01,  1.22573606e-01],\n",
       "       [-6.15260439e-01,  8.12158749e-02],\n",
       "       [-6.20568608e-01,  1.04911814e-01],\n",
       "       [-4.28382714e-01,  8.80000376e-02],\n",
       "       [-6.33818407e-01,  1.06935157e-01],\n",
       "       [-7.35476589e-01,  1.45078201e-01],\n",
       "       [-6.32302935e-01,  1.57990470e-01],\n",
       "       [-3.96136248e-01,  1.13157334e-01],\n",
       "       [ 4.78691805e-01,  1.83222897e-01],\n",
       "       [ 8.62089319e-01,  1.31530570e-01],\n",
       "       [ 7.03280959e-01,  9.86858036e-02],\n",
       "       [ 7.79764351e-01,  1.09392230e-01],\n",
       "       [ 1.25252711e+00, -4.65847226e-02],\n",
       "       [ 1.11166708e+00, -1.62549377e-02],\n",
       "       [ 1.03302205e+00,  9.90475708e-03],\n",
       "       [ 8.95230793e-01,  5.62744941e-02],\n",
       "       [ 9.51433124e-01,  5.02946584e-02],\n",
       "       [ 8.77635617e-01,  5.08109491e-02],\n",
       "       [ 8.87656162e-01,  7.45373512e-02],\n",
       "       [ 4.62407701e-04, -9.48501814e-02],\n",
       "       [-8.77988420e-02, -1.10648367e-01],\n",
       "       [-1.84919118e-01, -9.76893182e-02],\n",
       "       [-9.90383119e-02, -1.16662432e-01],\n",
       "       [-2.46095777e-02, -9.69496832e-02],\n",
       "       [-1.61319075e-01, -8.84747131e-02],\n",
       "       [-2.35699298e-01, -8.60672032e-02],\n",
       "       [-1.90923985e-01, -1.01440378e-01],\n",
       "       [-1.57580671e-01, -9.01567347e-02],\n",
       "       [-1.63105625e-01, -4.48500423e-02],\n",
       "       [-2.09984108e-01, -4.25908034e-02],\n",
       "       [-2.77343178e-01, -8.15449599e-02],\n",
       "       [-2.87751896e-01, -4.28028513e-02],\n",
       "       [-3.50359243e-01,  7.46576188e-04],\n",
       "       [-2.80275086e-01, -4.61668946e-02],\n",
       "       [-1.20614571e-02, -9.03698677e-02],\n",
       "       [-5.31226214e-02, -8.77388436e-02],\n",
       "       [ 8.66890718e-02, -8.20747168e-02],\n",
       "       [-1.20445459e-01, -9.44850121e-02],\n",
       "       [ 4.71483618e-02, -6.44385375e-02],\n",
       "       [-7.39713080e-02, -7.85127723e-02],\n",
       "       [ 2.91045244e-02, -5.07016891e-02],\n",
       "       [-1.70928292e-01, -7.32345774e-02],\n",
       "       [-2.51125834e-01, -7.11988527e-02],\n",
       "       [ 1.71258384e-03, -4.43043733e-02],\n",
       "       [-7.67984801e-03, -5.06749912e-02],\n",
       "       [-9.32703031e-02, -7.92715743e-02]])"
      ]
     },
     "execution_count": 24,
     "metadata": {},
     "output_type": "execute_result"
    }
   ],
   "source": [
    "pca1"
   ]
  },
  {
   "cell_type": "code",
   "execution_count": 25,
   "metadata": {},
   "outputs": [
    {
     "data": {
      "text/html": [
       "<div>\n",
       "<style scoped>\n",
       "    .dataframe tbody tr th:only-of-type {\n",
       "        vertical-align: middle;\n",
       "    }\n",
       "\n",
       "    .dataframe tbody tr th {\n",
       "        vertical-align: top;\n",
       "    }\n",
       "\n",
       "    .dataframe thead th {\n",
       "        text-align: right;\n",
       "    }\n",
       "</style>\n",
       "<table border=\"1\" class=\"dataframe\">\n",
       "  <thead>\n",
       "    <tr style=\"text-align: right;\">\n",
       "      <th></th>\n",
       "      <th>component1</th>\n",
       "      <th>component2</th>\n",
       "    </tr>\n",
       "  </thead>\n",
       "  <tbody>\n",
       "    <tr>\n",
       "      <th>21</th>\n",
       "      <td>0.877636</td>\n",
       "      <td>0.050811</td>\n",
       "    </tr>\n",
       "    <tr>\n",
       "      <th>19</th>\n",
       "      <td>0.895231</td>\n",
       "      <td>0.056274</td>\n",
       "    </tr>\n",
       "    <tr>\n",
       "      <th>9</th>\n",
       "      <td>-0.735477</td>\n",
       "      <td>0.145078</td>\n",
       "    </tr>\n",
       "    <tr>\n",
       "      <th>23</th>\n",
       "      <td>0.000462</td>\n",
       "      <td>-0.094850</td>\n",
       "    </tr>\n",
       "    <tr>\n",
       "      <th>25</th>\n",
       "      <td>-0.184919</td>\n",
       "      <td>-0.097689</td>\n",
       "    </tr>\n",
       "    <tr>\n",
       "      <th>27</th>\n",
       "      <td>-0.024610</td>\n",
       "      <td>-0.096950</td>\n",
       "    </tr>\n",
       "    <tr>\n",
       "      <th>35</th>\n",
       "      <td>-0.287752</td>\n",
       "      <td>-0.042803</td>\n",
       "    </tr>\n",
       "    <tr>\n",
       "      <th>31</th>\n",
       "      <td>-0.157581</td>\n",
       "      <td>-0.090157</td>\n",
       "    </tr>\n",
       "    <tr>\n",
       "      <th>38</th>\n",
       "      <td>-0.012061</td>\n",
       "      <td>-0.090370</td>\n",
       "    </tr>\n",
       "    <tr>\n",
       "      <th>20</th>\n",
       "      <td>0.951433</td>\n",
       "      <td>0.050295</td>\n",
       "    </tr>\n",
       "  </tbody>\n",
       "</table>\n",
       "</div>"
      ],
      "text/plain": [
       "    component1  component2\n",
       "21    0.877636    0.050811\n",
       "19    0.895231    0.056274\n",
       "9    -0.735477    0.145078\n",
       "23    0.000462   -0.094850\n",
       "25   -0.184919   -0.097689\n",
       "27   -0.024610   -0.096950\n",
       "35   -0.287752   -0.042803\n",
       "31   -0.157581   -0.090157\n",
       "38   -0.012061   -0.090370\n",
       "20    0.951433    0.050295"
      ]
     },
     "execution_count": 25,
     "metadata": {},
     "output_type": "execute_result"
    }
   ],
   "source": [
    "PCA_dataset1 = pd.DataFrame(data = pca1, columns = ['component1', 'component2'] )\n",
    "PCA_dataset1.sample(10)"
   ]
  },
  {
   "cell_type": "code",
   "execution_count": 26,
   "metadata": {},
   "outputs": [
    {
     "data": {
      "text/plain": [
       "array([2, 2, 2, 2, 2, 2, 2, 2, 2, 2, 2, 2, 0, 0, 0, 0, 0, 0, 0, 0, 0, 0,\n",
       "       0, 1, 1, 1, 1, 1, 1, 1, 1, 1, 1, 1, 1, 1, 2, 1, 1, 1, 1, 1, 1, 1,\n",
       "       1, 1, 1, 1, 1, 1], dtype=int64)"
      ]
     },
     "execution_count": 26,
     "metadata": {},
     "output_type": "execute_result"
    }
   ],
   "source": [
    "pca_cluster = agglo.fit_predict(pca1)\n",
    "pca_cluster"
   ]
  },
  {
   "cell_type": "code",
   "execution_count": 27,
   "metadata": {},
   "outputs": [
    {
     "name": "stderr",
     "output_type": "stream",
     "text": [
      "C:\\WPy64-3680\\python-3.6.8.amd64\\lib\\site-packages\\matplotlib\\cbook\\__init__.py:424: MatplotlibDeprecationWarning: \n",
      "Passing one of 'on', 'true', 'off', 'false' as a boolean is deprecated; use an actual boolean (True/False) instead.\n",
      "  warn_deprecated(\"2.2\", \"Passing one of 'on', 'true', 'off', 'false' as a \"\n",
      "C:\\WPy64-3680\\python-3.6.8.amd64\\lib\\site-packages\\matplotlib\\cbook\\__init__.py:424: MatplotlibDeprecationWarning: \n",
      "Passing one of 'on', 'true', 'off', 'false' as a boolean is deprecated; use an actual boolean (True/False) instead.\n",
      "  warn_deprecated(\"2.2\", \"Passing one of 'on', 'true', 'off', 'false' as a \"\n",
      "C:\\WPy64-3680\\python-3.6.8.amd64\\lib\\site-packages\\matplotlib\\cbook\\__init__.py:424: MatplotlibDeprecationWarning: \n",
      "Passing one of 'on', 'true', 'off', 'false' as a boolean is deprecated; use an actual boolean (True/False) instead.\n",
      "  warn_deprecated(\"2.2\", \"Passing one of 'on', 'true', 'off', 'false' as a \"\n",
      "C:\\WPy64-3680\\python-3.6.8.amd64\\lib\\site-packages\\matplotlib\\cbook\\__init__.py:424: MatplotlibDeprecationWarning: \n",
      "Passing one of 'on', 'true', 'off', 'false' as a boolean is deprecated; use an actual boolean (True/False) instead.\n",
      "  warn_deprecated(\"2.2\", \"Passing one of 'on', 'true', 'off', 'false' as a \"\n",
      "C:\\WPy64-3680\\python-3.6.8.amd64\\lib\\site-packages\\matplotlib\\cbook\\__init__.py:424: MatplotlibDeprecationWarning: \n",
      "Passing one of 'on', 'true', 'off', 'false' as a boolean is deprecated; use an actual boolean (True/False) instead.\n",
      "  warn_deprecated(\"2.2\", \"Passing one of 'on', 'true', 'off', 'false' as a \"\n",
      "C:\\WPy64-3680\\python-3.6.8.amd64\\lib\\site-packages\\matplotlib\\cbook\\__init__.py:424: MatplotlibDeprecationWarning: \n",
      "Passing one of 'on', 'true', 'off', 'false' as a boolean is deprecated; use an actual boolean (True/False) instead.\n",
      "  warn_deprecated(\"2.2\", \"Passing one of 'on', 'true', 'off', 'false' as a \"\n",
      "C:\\WPy64-3680\\python-3.6.8.amd64\\lib\\site-packages\\matplotlib\\cbook\\__init__.py:424: MatplotlibDeprecationWarning: \n",
      "Passing one of 'on', 'true', 'off', 'false' as a boolean is deprecated; use an actual boolean (True/False) instead.\n",
      "  warn_deprecated(\"2.2\", \"Passing one of 'on', 'true', 'off', 'false' as a \"\n",
      "C:\\WPy64-3680\\python-3.6.8.amd64\\lib\\site-packages\\matplotlib\\cbook\\__init__.py:424: MatplotlibDeprecationWarning: \n",
      "Passing one of 'on', 'true', 'off', 'false' as a boolean is deprecated; use an actual boolean (True/False) instead.\n",
      "  warn_deprecated(\"2.2\", \"Passing one of 'on', 'true', 'off', 'false' as a \"\n",
      "C:\\WPy64-3680\\python-3.6.8.amd64\\lib\\site-packages\\matplotlib\\cbook\\__init__.py:424: MatplotlibDeprecationWarning: \n",
      "Passing one of 'on', 'true', 'off', 'false' as a boolean is deprecated; use an actual boolean (True/False) instead.\n",
      "  warn_deprecated(\"2.2\", \"Passing one of 'on', 'true', 'off', 'false' as a \"\n",
      "C:\\WPy64-3680\\python-3.6.8.amd64\\lib\\site-packages\\matplotlib\\cbook\\__init__.py:424: MatplotlibDeprecationWarning: \n",
      "Passing one of 'on', 'true', 'off', 'false' as a boolean is deprecated; use an actual boolean (True/False) instead.\n",
      "  warn_deprecated(\"2.2\", \"Passing one of 'on', 'true', 'off', 'false' as a \"\n",
      "C:\\WPy64-3680\\python-3.6.8.amd64\\lib\\site-packages\\matplotlib\\cbook\\__init__.py:424: MatplotlibDeprecationWarning: \n",
      "Passing one of 'on', 'true', 'off', 'false' as a boolean is deprecated; use an actual boolean (True/False) instead.\n",
      "  warn_deprecated(\"2.2\", \"Passing one of 'on', 'true', 'off', 'false' as a \"\n",
      "C:\\WPy64-3680\\python-3.6.8.amd64\\lib\\site-packages\\matplotlib\\cbook\\__init__.py:424: MatplotlibDeprecationWarning: \n",
      "Passing one of 'on', 'true', 'off', 'false' as a boolean is deprecated; use an actual boolean (True/False) instead.\n",
      "  warn_deprecated(\"2.2\", \"Passing one of 'on', 'true', 'off', 'false' as a \"\n",
      "C:\\WPy64-3680\\python-3.6.8.amd64\\lib\\site-packages\\matplotlib\\cbook\\__init__.py:424: MatplotlibDeprecationWarning: \n",
      "Passing one of 'on', 'true', 'off', 'false' as a boolean is deprecated; use an actual boolean (True/False) instead.\n",
      "  warn_deprecated(\"2.2\", \"Passing one of 'on', 'true', 'off', 'false' as a \"\n",
      "C:\\WPy64-3680\\python-3.6.8.amd64\\lib\\site-packages\\matplotlib\\cbook\\__init__.py:424: MatplotlibDeprecationWarning: \n",
      "Passing one of 'on', 'true', 'off', 'false' as a boolean is deprecated; use an actual boolean (True/False) instead.\n",
      "  warn_deprecated(\"2.2\", \"Passing one of 'on', 'true', 'off', 'false' as a \"\n",
      "C:\\WPy64-3680\\python-3.6.8.amd64\\lib\\site-packages\\matplotlib\\cbook\\__init__.py:424: MatplotlibDeprecationWarning: \n",
      "Passing one of 'on', 'true', 'off', 'false' as a boolean is deprecated; use an actual boolean (True/False) instead.\n",
      "  warn_deprecated(\"2.2\", \"Passing one of 'on', 'true', 'off', 'false' as a \"\n"
     ]
    },
    {
     "data": {
      "image/png": "[encoded data removed]",
      "text/plain": [
       "<Figure size 576x360 with 1 Axes>"
      ]
     },
     "metadata": {},
     "output_type": "display_data"
    }
   ],
   "source": [
    "x, y = pca1[:, 0], pca1[:, 1]\n",
    "\n",
    "warna = {0: 'red',\n",
    "          1: 'blue',\n",
    "          2: 'green'}\n",
    "         \n",
    "nama = {0: 'big fish', \n",
    "         1: 'medium fish', \n",
    "         2: 'small fish'}\n",
    "\n",
    "df = pd.DataFrame({'x': x, 'y':y, 'label':labels}) \n",
    "groups = df.groupby('label')\n",
    "\n",
    "fig, ax = plt.subplots(figsize=(8, 5)) \n",
    "\n",
    "for name, group in groups:\n",
    "    ax.plot(group.x, group.y, marker='o', linestyle='', ms=5,\n",
    "            color=warna[name],label=nama[name], mec='none')\n",
    "    ax.set_aspect('auto')\n",
    "    ax.tick_params(axis='x',which='both',bottom='off',top='off',labelbottom='off')\n",
    "    ax.tick_params(axis= 'y',which='both',left='off',top='off',labelleft='off')\n",
    "    \n",
    "ax.legend()\n",
    "ax.set_title(\"Customers Segmentation based on their Credit Card usage bhaviour.\")\n",
    "plt.show()"
   ]
  },
  {
   "cell_type": "code",
   "execution_count": 28,
   "metadata": {},
   "outputs": [
    {
     "data": {
      "image/png": "[encoded data removed]",
      "text/plain": [
       "<Figure size 432x288 with 1 Axes>"
      ]
     },
     "metadata": {
      "needs_background": "light"
     },
     "output_type": "display_data"
    }
   ],
   "source": [
    "plt.scatter(pca1[pca_cluster == 0, 0], pca1[pca_cluster == 0, 1], s = 100, c = 'red', label = 'Big Fish')\n",
    "plt.scatter(pca1[pca_cluster == 1, 0], pca1[pca_cluster == 1, 1], s = 100, c = 'blue', label = 'Medium Fish')\n",
    "plt.scatter(pca1[pca_cluster == 2, 0], pca1[pca_cluster == 2, 1], s = 100, c = 'green', label = 'Small Fish')\n",
    "plt.title('Cluster Grouper Fish')\n",
    "plt.xlabel('Principal Component 1')\n",
    "plt.ylabel('Principal Component 2')\n",
    "plt.legend(loc = 'lower right')\n",
    "plt.savefig('clusterpca.png')\n",
    "plt.show()"
   ]
  },
  {
   "cell_type": "code",
   "execution_count": 29,
   "metadata": {},
   "outputs": [
    {
     "data": {
      "text/html": [
       "<div>\n",
       "<style scoped>\n",
       "    .dataframe tbody tr th:only-of-type {\n",
       "        vertical-align: middle;\n",
       "    }\n",
       "\n",
       "    .dataframe tbody tr th {\n",
       "        vertical-align: top;\n",
       "    }\n",
       "\n",
       "    .dataframe thead th {\n",
       "        text-align: right;\n",
       "    }\n",
       "</style>\n",
       "<table border=\"1\" class=\"dataframe\">\n",
       "  <thead>\n",
       "    <tr style=\"text-align: right;\">\n",
       "      <th></th>\n",
       "      <th>jenis</th>\n",
       "      <th>Panjang</th>\n",
       "      <th>Berat</th>\n",
       "      <th>Tinggi</th>\n",
       "      <th>Lebar</th>\n",
       "    </tr>\n",
       "  </thead>\n",
       "  <tbody>\n",
       "    <tr>\n",
       "      <th>40</th>\n",
       "      <td>E_areolatus</td>\n",
       "      <td>30.4</td>\n",
       "      <td>263.0</td>\n",
       "      <td>10.7</td>\n",
       "      <td>4.1</td>\n",
       "    </tr>\n",
       "    <tr>\n",
       "      <th>41</th>\n",
       "      <td>E_areolatus</td>\n",
       "      <td>28.1</td>\n",
       "      <td>246.0</td>\n",
       "      <td>9.2</td>\n",
       "      <td>3.8</td>\n",
       "    </tr>\n",
       "    <tr>\n",
       "      <th>42</th>\n",
       "      <td>E_areolatus</td>\n",
       "      <td>29.9</td>\n",
       "      <td>256.0</td>\n",
       "      <td>10.6</td>\n",
       "      <td>4.0</td>\n",
       "    </tr>\n",
       "    <tr>\n",
       "      <th>43</th>\n",
       "      <td>E_areolatus</td>\n",
       "      <td>28.9</td>\n",
       "      <td>243.0</td>\n",
       "      <td>9.7</td>\n",
       "      <td>3.8</td>\n",
       "    </tr>\n",
       "    <tr>\n",
       "      <th>44</th>\n",
       "      <td>E_areolatus</td>\n",
       "      <td>29.8</td>\n",
       "      <td>258.0</td>\n",
       "      <td>10.5</td>\n",
       "      <td>3.9</td>\n",
       "    </tr>\n",
       "    <tr>\n",
       "      <th>45</th>\n",
       "      <td>E_areolatus</td>\n",
       "      <td>27.9</td>\n",
       "      <td>239.0</td>\n",
       "      <td>9.0</td>\n",
       "      <td>3.6</td>\n",
       "    </tr>\n",
       "    <tr>\n",
       "      <th>46</th>\n",
       "      <td>E_areolatus</td>\n",
       "      <td>26.8</td>\n",
       "      <td>231.0</td>\n",
       "      <td>8.5</td>\n",
       "      <td>3.5</td>\n",
       "    </tr>\n",
       "    <tr>\n",
       "      <th>47</th>\n",
       "      <td>E_areolatus</td>\n",
       "      <td>29.8</td>\n",
       "      <td>251.0</td>\n",
       "      <td>10.4</td>\n",
       "      <td>3.8</td>\n",
       "    </tr>\n",
       "    <tr>\n",
       "      <th>48</th>\n",
       "      <td>E_areolatus</td>\n",
       "      <td>29.6</td>\n",
       "      <td>257.0</td>\n",
       "      <td>10.2</td>\n",
       "      <td>3.8</td>\n",
       "    </tr>\n",
       "    <tr>\n",
       "      <th>49</th>\n",
       "      <td>E_areolatus</td>\n",
       "      <td>28.4</td>\n",
       "      <td>247.0</td>\n",
       "      <td>9.5</td>\n",
       "      <td>3.8</td>\n",
       "    </tr>\n",
       "  </tbody>\n",
       "</table>\n",
       "</div>"
      ],
      "text/plain": [
       "          jenis  Panjang  Berat  Tinggi  Lebar\n",
       "40  E_areolatus     30.4  263.0    10.7    4.1\n",
       "41  E_areolatus     28.1  246.0     9.2    3.8\n",
       "42  E_areolatus     29.9  256.0    10.6    4.0\n",
       "43  E_areolatus     28.9  243.0     9.7    3.8\n",
       "44  E_areolatus     29.8  258.0    10.5    3.9\n",
       "45  E_areolatus     27.9  239.0     9.0    3.6\n",
       "46  E_areolatus     26.8  231.0     8.5    3.5\n",
       "47  E_areolatus     29.8  251.0    10.4    3.8\n",
       "48  E_areolatus     29.6  257.0    10.2    3.8\n",
       "49  E_areolatus     28.4  247.0     9.5    3.8"
      ]
     },
     "execution_count": 29,
     "metadata": {},
     "output_type": "execute_result"
    }
   ],
   "source": [
    "kerapu.tail(10)"
   ]
  },
  {
   "cell_type": "code",
   "execution_count": 30,
   "metadata": {},
   "outputs": [
    {
     "data": {
      "image/png": "[encoded data removed]",
      "text/plain": [
       "<Figure size 720x720 with 2 Axes>"
      ]
     },
     "metadata": {
      "needs_background": "light"
     },
     "output_type": "display_data"
    }
   ],
   "source": [
    "plt.figure(figsize = (10, 10))\n",
    "sns.heatmap(kerapu.corr(), annot = True, cmap=\"rainbow\")\n",
    "plt.savefig('Correlation')\n",
    "plt.show()"
   ]
  },
  {
   "cell_type": "markdown",
   "metadata": {},
   "source": [
    "# Multiple Linear Regression"
   ]
  },
  {
   "cell_type": "code",
   "execution_count": 31,
   "metadata": {},
   "outputs": [
    {
     "data": {
      "text/html": [
       "<div>\n",
       "<style scoped>\n",
       "    .dataframe tbody tr th:only-of-type {\n",
       "        vertical-align: middle;\n",
       "    }\n",
       "\n",
       "    .dataframe tbody tr th {\n",
       "        vertical-align: top;\n",
       "    }\n",
       "\n",
       "    .dataframe thead th {\n",
       "        text-align: right;\n",
       "    }\n",
       "</style>\n",
       "<table border=\"1\" class=\"dataframe\">\n",
       "  <thead>\n",
       "    <tr style=\"text-align: right;\">\n",
       "      <th></th>\n",
       "      <th>jenis</th>\n",
       "      <th>Panjang</th>\n",
       "      <th>Berat</th>\n",
       "      <th>Tinggi</th>\n",
       "      <th>Lebar</th>\n",
       "    </tr>\n",
       "  </thead>\n",
       "  <tbody>\n",
       "    <tr>\n",
       "      <th>0</th>\n",
       "      <td>E_ongus</td>\n",
       "      <td>22.7</td>\n",
       "      <td>150.0</td>\n",
       "      <td>8.6</td>\n",
       "      <td>2.8</td>\n",
       "    </tr>\n",
       "    <tr>\n",
       "      <th>1</th>\n",
       "      <td>E_ongus</td>\n",
       "      <td>24.7</td>\n",
       "      <td>170.0</td>\n",
       "      <td>9.8</td>\n",
       "      <td>3.2</td>\n",
       "    </tr>\n",
       "    <tr>\n",
       "      <th>2</th>\n",
       "      <td>E_ongus</td>\n",
       "      <td>22.5</td>\n",
       "      <td>148.0</td>\n",
       "      <td>8.4</td>\n",
       "      <td>2.8</td>\n",
       "    </tr>\n",
       "    <tr>\n",
       "      <th>3</th>\n",
       "      <td>E_ongus</td>\n",
       "      <td>22.6</td>\n",
       "      <td>151.0</td>\n",
       "      <td>8.5</td>\n",
       "      <td>2.8</td>\n",
       "    </tr>\n",
       "    <tr>\n",
       "      <th>4</th>\n",
       "      <td>E_ongus</td>\n",
       "      <td>23.5</td>\n",
       "      <td>163.0</td>\n",
       "      <td>9.0</td>\n",
       "      <td>2.8</td>\n",
       "    </tr>\n",
       "  </tbody>\n",
       "</table>\n",
       "</div>"
      ],
      "text/plain": [
       "     jenis  Panjang  Berat  Tinggi  Lebar\n",
       "0  E_ongus     22.7  150.0     8.6    2.8\n",
       "1  E_ongus     24.7  170.0     9.8    3.2\n",
       "2  E_ongus     22.5  148.0     8.4    2.8\n",
       "3  E_ongus     22.6  151.0     8.5    2.8\n",
       "4  E_ongus     23.5  163.0     9.0    2.8"
      ]
     },
     "execution_count": 31,
     "metadata": {},
     "output_type": "execute_result"
    }
   ],
   "source": [
    "kerapu.head()"
   ]
  },
  {
   "cell_type": "code",
   "execution_count": 32,
   "metadata": {},
   "outputs": [],
   "source": [
    "import statsmodels.api as sm\n",
    "from statsmodels.formula.api import ols\n",
    "import statsmodels.formula.api as smf"
   ]
  },
  {
   "cell_type": "code",
   "execution_count": 33,
   "metadata": {},
   "outputs": [
    {
     "name": "stdout",
     "output_type": "stream",
     "text": [
      "Intercept   -398.574336\n",
      "Panjang       19.193889\n",
      "Tinggi        26.830912\n",
      "Lebar        -40.106017\n",
      "dtype: float64\n",
      "                            OLS Regression Results                            \n",
      "==============================================================================\n",
      "Dep. Variable:                  Berat   R-squared:                       0.965\n",
      "Model:                            OLS   Adj. R-squared:                  0.963\n",
      "Method:                 Least Squares   F-statistic:                     427.1\n",
      "Date:                Sun, 25 Oct 2020   Prob (F-statistic):           1.41e-33\n",
      "Time:                        08:57:38   Log-Likelihood:                -229.40\n",
      "No. Observations:                  50   AIC:                             466.8\n",
      "Df Residuals:                      46   BIC:                             474.4\n",
      "Df Model:                           3                                         \n",
      "Covariance Type:            nonrobust                                         \n",
      "==============================================================================\n",
      "                 coef    std err          t      P>|t|      [0.025      0.975]\n",
      "------------------------------------------------------------------------------\n",
      "Intercept   -398.5743     36.644    -10.877      0.000    -472.336    -324.813\n",
      "Panjang       19.1939      5.243      3.661      0.001       8.641      29.747\n",
      "Tinggi        26.8309      4.067      6.597      0.000      18.644      35.018\n",
      "Lebar        -40.1060     26.928     -1.489      0.143     -94.309      14.097\n",
      "==============================================================================\n",
      "Omnibus:                        2.728   Durbin-Watson:                   1.968\n",
      "Prob(Omnibus):                  0.256   Jarque-Bera (JB):                1.909\n",
      "Skew:                           0.198   Prob(JB):                        0.385\n",
      "Kurtosis:                       3.872   Cond. No.                         384.\n",
      "==============================================================================\n",
      "\n",
      "Warnings:\n",
      "[1] Standard Errors assume that the covariance matrix of the errors is correctly specified.\n"
     ]
    }
   ],
   "source": [
    "res = ols(formula='Berat ~ Panjang + Tinggi + Lebar', data = kerapu).fit()\n",
    "print(res.params)\n",
    "print(res.summary())"
   ]
  },
  {
   "cell_type": "code",
   "execution_count": 34,
   "metadata": {},
   "outputs": [
    {
     "name": "stdout",
     "output_type": "stream",
     "text": [
      "Intercept   -357.900492\n",
      "Panjang       11.968075\n",
      "Tinggi        28.381004\n",
      "dtype: float64\n",
      "                            OLS Regression Results                            \n",
      "==============================================================================\n",
      "Dep. Variable:                  Berat   R-squared:                       0.964\n",
      "Model:                            OLS   Adj. R-squared:                  0.962\n",
      "Method:                 Least Squares   F-statistic:                     623.4\n",
      "Date:                Sun, 25 Oct 2020   Prob (F-statistic):           1.46e-34\n",
      "Time:                        08:57:38   Log-Likelihood:                -230.58\n",
      "No. Observations:                  50   AIC:                             467.2\n",
      "Df Residuals:                      47   BIC:                             472.9\n",
      "Df Model:                           2                                         \n",
      "Covariance Type:            nonrobust                                         \n",
      "==============================================================================\n",
      "                 coef    std err          t      P>|t|      [0.025      0.975]\n",
      "------------------------------------------------------------------------------\n",
      "Intercept   -357.9005     24.749    -14.461      0.000    -407.689    -308.112\n",
      "Panjang       11.9681      2.013      5.946      0.000       7.919      16.017\n",
      "Tinggi        28.3810      3.983      7.126      0.000      20.369      36.393\n",
      "==============================================================================\n",
      "Omnibus:                        0.965   Durbin-Watson:                   1.812\n",
      "Prob(Omnibus):                  0.617   Jarque-Bera (JB):                0.365\n",
      "Skew:                           0.151   Prob(JB):                        0.833\n",
      "Kurtosis:                       3.289   Cond. No.                         217.\n",
      "==============================================================================\n",
      "\n",
      "Warnings:\n",
      "[1] Standard Errors assume that the covariance matrix of the errors is correctly specified.\n"
     ]
    }
   ],
   "source": [
    "res = ols(formula='Berat ~ Panjang + Tinggi', data = kerapu).fit()\n",
    "print(res.params)\n",
    "print(res.summary())"
   ]
  },
  {
   "cell_type": "code",
   "execution_count": 35,
   "metadata": {},
   "outputs": [
    {
     "data": {
      "image/png": "[encoded data removed]",
      "text/plain": [
       "<Figure size 432x288 with 1 Axes>"
      ]
     },
     "metadata": {
      "needs_background": "light"
     },
     "output_type": "display_data"
    }
   ],
   "source": [
    "p = sns.regplot(kerapu.Berat, kerapu.Panjang)"
   ]
  },
  {
   "cell_type": "code",
   "execution_count": 36,
   "metadata": {},
   "outputs": [
    {
     "data": {
      "image/png": "[encoded data removed]",
      "text/plain": [
       "<Figure size 432x288 with 1 Axes>"
      ]
     },
     "metadata": {
      "needs_background": "light"
     },
     "output_type": "display_data"
    }
   ],
   "source": [
    "reg = sns.regplot(kerapu.Berat, kerapu.Tinggi)"
   ]
  },
  {
   "cell_type": "code",
   "execution_count": 37,
   "metadata": {},
   "outputs": [
    {
     "name": "stdout",
     "output_type": "stream",
     "text": [
      "Intercept       -429.072859\n",
      "np.log(Lebar)    544.231220\n",
      "dtype: float64\n",
      "                            OLS Regression Results                            \n",
      "==============================================================================\n",
      "Dep. Variable:                  Berat   R-squared:                       0.814\n",
      "Model:                            OLS   Adj. R-squared:                  0.810\n",
      "Method:                 Least Squares   F-statistic:                     209.4\n",
      "Date:                Sun, 25 Oct 2020   Prob (F-statistic):           3.96e-19\n",
      "Time:                        08:57:40   Log-Likelihood:                -271.47\n",
      "No. Observations:                  50   AIC:                             546.9\n",
      "Df Residuals:                      48   BIC:                             550.8\n",
      "Df Model:                           1                                         \n",
      "Covariance Type:            nonrobust                                         \n",
      "=================================================================================\n",
      "                    coef    std err          t      P>|t|      [0.025      0.975]\n",
      "---------------------------------------------------------------------------------\n",
      "Intercept      -429.0729     49.537     -8.662      0.000    -528.673    -329.473\n",
      "np.log(Lebar)   544.2312     37.611     14.470      0.000     468.609     619.853\n",
      "==============================================================================\n",
      "Omnibus:                       10.287   Durbin-Watson:                   0.517\n",
      "Prob(Omnibus):                  0.006   Jarque-Bera (JB):                3.594\n",
      "Skew:                           0.328   Prob(JB):                        0.166\n",
      "Kurtosis:                       1.862   Cond. No.                         12.8\n",
      "==============================================================================\n",
      "\n",
      "Warnings:\n",
      "[1] Standard Errors assume that the covariance matrix of the errors is correctly specified.\n"
     ]
    }
   ],
   "source": [
    "res = ols(formula='Berat ~ np.log(Lebar)', data = kerapu).fit()\n",
    "print(res.params)\n",
    "print(res.summary())"
   ]
  },
  {
   "cell_type": "code",
   "execution_count": null,
   "metadata": {},
   "outputs": [],
   "source": []
  },
  {
   "cell_type": "code",
   "execution_count": 43,
   "metadata": {},
   "outputs": [],
   "source": [
    "X = kerapu.drop(columns=['Berat', 'Lebar', 'jenis'])\n",
    "Y = kerapu['Berat']"
   ]
  },
  {
   "cell_type": "code",
   "execution_count": 44,
   "metadata": {},
   "outputs": [],
   "source": [
    "from sklearn.model_selection import train_test_split\n",
    "X_train, X_test, Y_train, Y_test = train_test_split(X, Y, test_size=0.3, random_state=1)"
   ]
  },
  {
   "cell_type": "code",
   "execution_count": 45,
   "metadata": {},
   "outputs": [
    {
     "name": "stdout",
     "output_type": "stream",
     "text": [
      "Berapa banyak test and train datasets?\n",
      "X_train:  (35, 2)\n",
      "Y_train:  (35,)\n",
      "X_test:  (15, 2)\n",
      "Y_test:  (15,)\n"
     ]
    }
   ],
   "source": [
    "print('Berapa banyak test and train datasets?')\n",
    "print('X_train: ', np.shape(X_train))\n",
    "print('Y_train: ', np.shape(Y_train))\n",
    "print('X_test: ', np.shape(X_test))\n",
    "print('Y_test: ', np.shape(Y_test))"
   ]
  },
  {
   "cell_type": "code",
   "execution_count": 46,
   "metadata": {},
   "outputs": [
    {
     "data": {
      "text/plain": [
       "LinearRegression(copy_X=True, fit_intercept=True, n_jobs=None,\n",
       "         normalize=False)"
      ]
     },
     "execution_count": 46,
     "metadata": {},
     "output_type": "execute_result"
    }
   ],
   "source": [
    "from sklearn.linear_model import LinearRegression\n",
    "\n",
    "reg = LinearRegression()\n",
    "reg.fit(X_train,Y_train)"
   ]
  },
  {
   "cell_type": "code",
   "execution_count": 47,
   "metadata": {},
   "outputs": [
    {
     "name": "stdout",
     "output_type": "stream",
     "text": [
      "Model intercept:  -363.46135634623744\n",
      "Model coefficients:  [11.80467253 29.4061651 ]\n"
     ]
    }
   ],
   "source": [
    "print('Model intercept: ', reg.intercept_)\n",
    "print('Model coefficients: ', reg.coef_)"
   ]
  },
  {
   "cell_type": "code",
   "execution_count": 48,
   "metadata": {},
   "outputs": [
    {
     "name": "stdout",
     "output_type": "stream",
     "text": [
      "Y = -363.46 + 11.80*X1 29.41*X2 \n"
     ]
    }
   ],
   "source": [
    "print('Y = ' + str('%.2f' % reg.intercept_) + ' + ' + str('%.2f' % reg.coef_[0]) + '*X1 ' + str('%.2f' % reg.coef_[1]) + '*X2 ')"
   ]
  },
  {
   "cell_type": "code",
   "execution_count": 49,
   "metadata": {},
   "outputs": [],
   "source": [
    "Y_head = reg.predict(X_train)"
   ]
  },
  {
   "cell_type": "code",
   "execution_count": 50,
   "metadata": {},
   "outputs": [
    {
     "data": {
      "text/plain": [
       "0.9667498169003405"
      ]
     },
     "execution_count": 50,
     "metadata": {},
     "output_type": "execute_result"
    }
   ],
   "source": [
    "from sklearn.metrics import r2_score\n",
    "\n",
    "r2_score(Y_train, Y_head)"
   ]
  },
  {
   "cell_type": "code",
   "execution_count": 51,
   "metadata": {},
   "outputs": [
    {
     "name": "stdout",
     "output_type": "stream",
     "text": [
      "[ 0.9518776   0.9933141   0.83568181  0.96149061  0.96687442  0.73490709\n",
      "  0.93320831  0.9926221  -1.05019135  0.75949267]\n"
     ]
    }
   ],
   "source": [
    "from sklearn.model_selection import cross_val_score\n",
    "cross_val_score_train = cross_val_score(reg, X_train, Y_train, cv=10, scoring='r2')\n",
    "print(cross_val_score_train)"
   ]
  },
  {
   "cell_type": "code",
   "execution_count": 52,
   "metadata": {},
   "outputs": [
    {
     "data": {
      "text/plain": [
       "0.7079277357219158"
      ]
     },
     "execution_count": 52,
     "metadata": {},
     "output_type": "execute_result"
    }
   ],
   "source": [
    "cross_val_score_train.mean()"
   ]
  },
  {
   "cell_type": "code",
   "execution_count": 53,
   "metadata": {},
   "outputs": [],
   "source": [
    "Y_pred = reg.predict(X_test)"
   ]
  },
  {
   "cell_type": "code",
   "execution_count": 54,
   "metadata": {},
   "outputs": [
    {
     "name": "stdout",
     "output_type": "stream",
     "text": [
      "0.9470055438831679\n"
     ]
    }
   ],
   "source": [
    "print(r2_score(Y_test, Y_pred))"
   ]
  },
  {
   "cell_type": "code",
   "execution_count": 55,
   "metadata": {},
   "outputs": [
    {
     "data": {
      "text/html": [
       "<div>\n",
       "<style scoped>\n",
       "    .dataframe tbody tr th:only-of-type {\n",
       "        vertical-align: middle;\n",
       "    }\n",
       "\n",
       "    .dataframe tbody tr th {\n",
       "        vertical-align: top;\n",
       "    }\n",
       "\n",
       "    .dataframe thead th {\n",
       "        text-align: right;\n",
       "    }\n",
       "</style>\n",
       "<table border=\"1\" class=\"dataframe\">\n",
       "  <thead>\n",
       "    <tr style=\"text-align: right;\">\n",
       "      <th></th>\n",
       "      <th>Estimasi Berat</th>\n",
       "    </tr>\n",
       "  </thead>\n",
       "  <tbody>\n",
       "    <tr>\n",
       "      <th>0</th>\n",
       "      <td>269.995182</td>\n",
       "    </tr>\n",
       "    <tr>\n",
       "      <th>1</th>\n",
       "      <td>198.735187</td>\n",
       "    </tr>\n",
       "    <tr>\n",
       "      <th>2</th>\n",
       "      <td>310.046655</td>\n",
       "    </tr>\n",
       "    <tr>\n",
       "      <th>3</th>\n",
       "      <td>274.116265</td>\n",
       "    </tr>\n",
       "    <tr>\n",
       "      <th>4</th>\n",
       "      <td>149.155562</td>\n",
       "    </tr>\n",
       "  </tbody>\n",
       "</table>\n",
       "</div>"
      ],
      "text/plain": [
       "   Estimasi Berat\n",
       "0      269.995182\n",
       "1      198.735187\n",
       "2      310.046655\n",
       "3      274.116265\n",
       "4      149.155562"
      ]
     },
     "execution_count": 55,
     "metadata": {},
     "output_type": "execute_result"
    }
   ],
   "source": [
    "Y_pred1 = pd.DataFrame(Y_pred, columns=['Estimasi Berat'])\n",
    "Y_pred1.head()"
   ]
  },
  {
   "cell_type": "code",
   "execution_count": 56,
   "metadata": {},
   "outputs": [
    {
     "data": {
      "text/html": [
       "<div>\n",
       "<style scoped>\n",
       "    .dataframe tbody tr th:only-of-type {\n",
       "        vertical-align: middle;\n",
       "    }\n",
       "\n",
       "    .dataframe tbody tr th {\n",
       "        vertical-align: top;\n",
       "    }\n",
       "\n",
       "    .dataframe thead th {\n",
       "        text-align: right;\n",
       "    }\n",
       "</style>\n",
       "<table border=\"1\" class=\"dataframe\">\n",
       "  <thead>\n",
       "    <tr style=\"text-align: right;\">\n",
       "      <th></th>\n",
       "      <th>Berat</th>\n",
       "    </tr>\n",
       "  </thead>\n",
       "  <tbody>\n",
       "    <tr>\n",
       "      <th>0</th>\n",
       "      <td>251.0</td>\n",
       "    </tr>\n",
       "    <tr>\n",
       "      <th>1</th>\n",
       "      <td>228.0</td>\n",
       "    </tr>\n",
       "    <tr>\n",
       "      <th>2</th>\n",
       "      <td>263.0</td>\n",
       "    </tr>\n",
       "    <tr>\n",
       "      <th>3</th>\n",
       "      <td>254.0</td>\n",
       "    </tr>\n",
       "    <tr>\n",
       "      <th>4</th>\n",
       "      <td>148.0</td>\n",
       "    </tr>\n",
       "  </tbody>\n",
       "</table>\n",
       "</div>"
      ],
      "text/plain": [
       "   Berat\n",
       "0  251.0\n",
       "1  228.0\n",
       "2  263.0\n",
       "3  254.0\n",
       "4  148.0"
      ]
     },
     "execution_count": 56,
     "metadata": {},
     "output_type": "execute_result"
    }
   ],
   "source": [
    "Y_test1 = pd.DataFrame(Y_test)\n",
    "Y_test1 = Y_test1.reset_index(drop=True)\n",
    "Y_test1.head()"
   ]
  },
  {
   "cell_type": "code",
   "execution_count": 57,
   "metadata": {},
   "outputs": [
    {
     "data": {
      "text/html": [
       "<div>\n",
       "<style scoped>\n",
       "    .dataframe tbody tr th:only-of-type {\n",
       "        vertical-align: middle;\n",
       "    }\n",
       "\n",
       "    .dataframe tbody tr th {\n",
       "        vertical-align: top;\n",
       "    }\n",
       "\n",
       "    .dataframe thead th {\n",
       "        text-align: right;\n",
       "    }\n",
       "</style>\n",
       "<table border=\"1\" class=\"dataframe\">\n",
       "  <thead>\n",
       "    <tr style=\"text-align: right;\">\n",
       "      <th></th>\n",
       "      <th>Berat</th>\n",
       "      <th>Estimasi Berat</th>\n",
       "    </tr>\n",
       "  </thead>\n",
       "  <tbody>\n",
       "    <tr>\n",
       "      <th>0</th>\n",
       "      <td>251.0</td>\n",
       "      <td>269.995182</td>\n",
       "    </tr>\n",
       "    <tr>\n",
       "      <th>1</th>\n",
       "      <td>228.0</td>\n",
       "      <td>198.735187</td>\n",
       "    </tr>\n",
       "    <tr>\n",
       "      <th>2</th>\n",
       "      <td>263.0</td>\n",
       "      <td>310.046655</td>\n",
       "    </tr>\n",
       "    <tr>\n",
       "      <th>3</th>\n",
       "      <td>254.0</td>\n",
       "      <td>274.116265</td>\n",
       "    </tr>\n",
       "    <tr>\n",
       "      <th>4</th>\n",
       "      <td>148.0</td>\n",
       "      <td>149.155562</td>\n",
       "    </tr>\n",
       "    <tr>\n",
       "      <th>5</th>\n",
       "      <td>151.0</td>\n",
       "      <td>153.276646</td>\n",
       "    </tr>\n",
       "    <tr>\n",
       "      <th>6</th>\n",
       "      <td>257.0</td>\n",
       "      <td>285.899835</td>\n",
       "    </tr>\n",
       "    <tr>\n",
       "      <th>7</th>\n",
       "      <td>227.0</td>\n",
       "      <td>206.977355</td>\n",
       "    </tr>\n",
       "    <tr>\n",
       "      <th>8</th>\n",
       "      <td>231.0</td>\n",
       "      <td>202.856271</td>\n",
       "    </tr>\n",
       "    <tr>\n",
       "      <th>9</th>\n",
       "      <td>240.0</td>\n",
       "      <td>230.544493</td>\n",
       "    </tr>\n",
       "    <tr>\n",
       "      <th>10</th>\n",
       "      <td>241.0</td>\n",
       "      <td>238.786661</td>\n",
       "    </tr>\n",
       "    <tr>\n",
       "      <th>11</th>\n",
       "      <td>245.0</td>\n",
       "      <td>265.874098</td>\n",
       "    </tr>\n",
       "    <tr>\n",
       "      <th>12</th>\n",
       "      <td>496.0</td>\n",
       "      <td>496.739201</td>\n",
       "    </tr>\n",
       "    <tr>\n",
       "      <th>13</th>\n",
       "      <td>220.0</td>\n",
       "      <td>185.170365</td>\n",
       "    </tr>\n",
       "    <tr>\n",
       "      <th>14</th>\n",
       "      <td>501.0</td>\n",
       "      <td>502.040752</td>\n",
       "    </tr>\n",
       "  </tbody>\n",
       "</table>\n",
       "</div>"
      ],
      "text/plain": [
       "    Berat  Estimasi Berat\n",
       "0   251.0      269.995182\n",
       "1   228.0      198.735187\n",
       "2   263.0      310.046655\n",
       "3   254.0      274.116265\n",
       "4   148.0      149.155562\n",
       "5   151.0      153.276646\n",
       "6   257.0      285.899835\n",
       "7   227.0      206.977355\n",
       "8   231.0      202.856271\n",
       "9   240.0      230.544493\n",
       "10  241.0      238.786661\n",
       "11  245.0      265.874098\n",
       "12  496.0      496.739201\n",
       "13  220.0      185.170365\n",
       "14  501.0      502.040752"
      ]
     },
     "execution_count": 57,
     "metadata": {},
     "output_type": "execute_result"
    }
   ],
   "source": [
    "ynew = pd.concat([Y_test1, Y_pred1], axis=1)\n",
    "ynew"
   ]
  },
  {
   "cell_type": "code",
   "execution_count": 58,
   "metadata": {},
   "outputs": [
    {
     "data": {
      "image/png": "[encoded data removed]",
      "text/plain": [
       "<Figure size 432x288 with 1 Axes>"
      ]
     },
     "metadata": {
      "needs_background": "light"
     },
     "output_type": "display_data"
    }
   ],
   "source": [
    "plt.scatter(X_test['Panjang'], Y_test, color='red', alpha=0.4)\n",
    "plt.scatter(X_test['Panjang'], Y_pred, color='blue', alpha=0.4)\n",
    "plt.xlabel('Panjang in cm')\n",
    "plt.ylabel('Berat Ikan')\n",
    "plt.title('Linear Regression Model for Weight Estimation');"
   ]
  },
  {
   "cell_type": "code",
   "execution_count": 59,
   "metadata": {},
   "outputs": [
    {
     "data": {
      "image/png": "[encoded data removed]",
      "text/plain": [
       "<Figure size 432x288 with 1 Axes>"
      ]
     },
     "metadata": {
      "needs_background": "light"
     },
     "output_type": "display_data"
    }
   ],
   "source": [
    "plt.scatter(X_test['Tinggi'], Y_test, color='red', alpha=0.4)\n",
    "plt.scatter(X_test['Tinggi'], Y_pred, color='blue', alpha=0.4)\n",
    "plt.xlabel('Tinggi in cm')\n",
    "plt.ylabel('Berat Ikan')\n",
    "plt.title('Linear Regression Model for Weight Estimation');"
   ]
  },
  {
   "cell_type": "code",
   "execution_count": null,
   "metadata": {},
   "outputs": [],
   "source": []
  },
  {
   "cell_type": "code",
   "execution_count": null,
   "metadata": {},
   "outputs": [],
   "source": []
  }
 ],
 "metadata": {
  "kernelspec": {
   "display_name": "Python 3",
   "language": "python",
   "name": "python3"
  },
  "language_info": {
   "codemirror_mode": {
    "name": "ipython",
    "version": 3
   },
   "file_extension": ".py",
   "mimetype": "text/x-python",
   "name": "python",
   "nbconvert_exporter": "python",
   "pygments_lexer": "ipython3",
   "version": "3.6.8"
  }
 },
 "nbformat": 4,
 "nbformat_minor": 2
}
